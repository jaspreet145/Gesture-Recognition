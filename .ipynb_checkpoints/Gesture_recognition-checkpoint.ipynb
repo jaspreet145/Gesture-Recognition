{
 "cells": [
  {
   "cell_type": "markdown",
   "metadata": {
    "colab_type": "text",
    "id": "view-in-github"
   },
   "source": [
    "<a href=\"https://colab.research.google.com/github/jaspreet145/Gesture-Recognition/blob/master/Gesture_recognition.ipynb\" target=\"_parent\"><img src=\"https://colab.research.google.com/assets/colab-badge.svg\" alt=\"Open In Colab\"/></a>"
   ]
  },
  {
   "cell_type": "code",
   "execution_count": 1,
   "metadata": {
    "colab": {},
    "colab_type": "code",
    "id": "fBkXvCJ5wu1d"
   },
   "outputs": [
    {
     "name": "stderr",
     "output_type": "stream",
     "text": [
      "Using TensorFlow backend.\n"
     ]
    }
   ],
   "source": [
    "import numpy as np\n",
    "import  cv2\n",
    "import pandas as pd\n",
    "import keras\n",
    "%matplotlib inline\n",
    "import matplotlib.pyplot as plt"
   ]
  },
  {
   "cell_type": "code",
   "execution_count": 2,
   "metadata": {},
   "outputs": [
    {
     "name": "stdout",
     "output_type": "stream",
     "text": [
      "4.1.0\n"
     ]
    }
   ],
   "source": [
    "print(cv2.__version__)"
   ]
  },
  {
   "cell_type": "code",
   "execution_count": 3,
   "metadata": {},
   "outputs": [],
   "source": [
    "#import the data\n",
    "\n",
    "train = pd.read_csv(\"sign_mnist_train.csv\")"
   ]
  },
  {
   "cell_type": "code",
   "execution_count": 4,
   "metadata": {},
   "outputs": [],
   "source": [
    "train_x = train.drop('label',axis = 1).values\n",
    "train_y = train['label'].values"
   ]
  },
  {
   "cell_type": "code",
   "execution_count": 5,
   "metadata": {},
   "outputs": [
    {
     "name": "stdout",
     "output_type": "stream",
     "text": [
      "(25,)\n",
      "[0. 0. 0. 1. 0. 0. 0. 0. 0. 0. 0. 0. 0. 0. 0. 0. 0. 0. 0. 0. 0. 0. 0. 0.\n",
      " 0.]\n"
     ]
    }
   ],
   "source": [
    "from keras.utils import to_categorical\n",
    "train_y = to_categorical(train_y)\n",
    "print(train_y[0].shape)\n",
    "print(train_y[0])"
   ]
  },
  {
   "cell_type": "code",
   "execution_count": 6,
   "metadata": {},
   "outputs": [],
   "source": [
    "\n",
    "img_rows = 28\n",
    "img_cols =  28\n",
    "\n",
    "train_x = train_x.reshape(train_x.shape[0], img_rows, img_cols, 1)\n",
    "in_shape = (img_rows, img_cols, 1)"
   ]
  },
  {
   "cell_type": "code",
   "execution_count": 7,
   "metadata": {},
   "outputs": [],
   "source": [
    "#plt.imshow('',train_x[0].reshape(28,28))"
   ]
  },
  {
   "cell_type": "code",
   "execution_count": 8,
   "metadata": {},
   "outputs": [],
   "source": [
    "from keras.models import Sequential\n",
    "from keras.layers import Dense, Dropout, Activation, Flatten, Conv2D, MaxPooling2D\n"
   ]
  },
  {
   "cell_type": "code",
   "execution_count": 9,
   "metadata": {},
   "outputs": [],
   "source": [
    "#model architechture\n",
    "\n",
    "model = Sequential()\n",
    "model.add(Conv2D(32, (3, 3), padding='same', input_shape=in_shape))\n",
    "model.add(Activation('relu'))\n",
    "model.add(Conv2D(32,(3,3)))\n",
    "model.add(Activation('relu'))\n",
    "model.add(MaxPooling2D(pool_size = (2,2)))\n",
    "model.add(Dropout(0.25))\n",
    "\n",
    "model.add(Conv2D(64 , (3,3) , padding = 'same'))\n",
    "model.add(Activation('relu'))\n",
    "model.add(Conv2D(32,(3,3)))\n",
    "model.add(Activation('relu'))\n",
    "model.add(MaxPooling2D(pool_size = (2,2)))\n",
    "model.add(Dropout(0.25))\n",
    "\n",
    "model.add(Flatten())\n",
    "model.add(Dense(512))\n",
    "model.add(Activation('relu'))\n",
    "model.add(Dropout(0.5))\n",
    "model.add(Dense(25))\n",
    "model.add(Activation('softmax'))\n",
    "\n",
    "opt = keras.optimizers.rmsprop(lr=0.0001, decay=1e-6)\n",
    "\n",
    "model.compile(loss = 'categorical_crossentropy' , optimizer = opt , metrics=['accuracy'])\n",
    "\n"
   ]
  },
  {
   "cell_type": "code",
   "execution_count": 10,
   "metadata": {},
   "outputs": [
    {
     "name": "stdout",
     "output_type": "stream",
     "text": [
      "Epoch 1/15\n",
      "27455/27455 [==============================] - 175s 6ms/step - loss: 4.7744 - acc: 0.1411\n",
      "Epoch 2/15\n",
      "27455/27455 [==============================] - 179s 7ms/step - loss: 1.1723 - acc: 0.6277 1s - loss: 1.1761 - acc: \n",
      "Epoch 3/15\n",
      "27455/27455 [==============================] - 173s 6ms/step - loss: 0.4776 - acc: 0.8379\n",
      "Epoch 4/15\n",
      "27455/27455 [==============================] - 172s 6ms/step - loss: 0.2489 - acc: 0.9136\n",
      "Epoch 5/15\n",
      "27455/27455 [==============================] - 173s 6ms/step - loss: 0.1544 - acc: 0.9481\n",
      "Epoch 6/15\n",
      "27455/27455 [==============================] - 173s 6ms/step - loss: 0.1022 - acc: 0.9657\n",
      "Epoch 7/15\n",
      "27455/27455 [==============================] - 166s 6ms/step - loss: 0.0752 - acc: 0.9752\n",
      "Epoch 8/15\n",
      "27455/27455 [==============================] - 166s 6ms/step - loss: 0.0566 - acc: 0.9809\n",
      "Epoch 9/15\n",
      "27455/27455 [==============================] - 166s 6ms/step - loss: 0.0486 - acc: 0.9839\n",
      "Epoch 10/15\n",
      "27455/27455 [==============================] - 167s 6ms/step - loss: 0.0379 - acc: 0.9872\n",
      "Epoch 11/15\n",
      "27455/27455 [==============================] - 177s 6ms/step - loss: 0.0314 - acc: 0.9893\n",
      "Epoch 12/15\n",
      "27455/27455 [==============================] - 180s 7ms/step - loss: 0.0279 - acc: 0.9913\n",
      "Epoch 13/15\n",
      "27455/27455 [==============================] - 166s 6ms/step - loss: 0.0315 - acc: 0.9897\n",
      "Epoch 14/15\n",
      "27455/27455 [==============================] - 167s 6ms/step - loss: 0.0223 - acc: 0.9924 3s - loss: 0\n",
      "Epoch 15/15\n",
      "27455/27455 [==============================] - 167s 6ms/step - loss: 0.0199 - acc: 0.9934\n"
     ]
    },
    {
     "data": {
      "text/plain": [
       "<keras.callbacks.History at 0x20e622ac198>"
      ]
     },
     "execution_count": 10,
     "metadata": {},
     "output_type": "execute_result"
    }
   ],
   "source": [
    "model.fit(train_x, train_y , epochs  = 15 , verbose = 1)"
   ]
  },
  {
   "cell_type": "code",
   "execution_count": 11,
   "metadata": {},
   "outputs": [],
   "source": [
    "model.save('my_model.h5')"
   ]
  },
  {
   "cell_type": "code",
   "execution_count": null,
   "metadata": {},
   "outputs": [],
   "source": []
  }
 ],
 "metadata": {
  "colab": {
   "include_colab_link": true,
   "name": "Gesture-recognition.ipynb",
   "provenance": [],
   "version": "0.3.2"
  },
  "kernelspec": {
   "display_name": "Python 3",
   "language": "python",
   "name": "python3"
  },
  "language_info": {
   "codemirror_mode": {
    "name": "ipython",
    "version": 3
   },
   "file_extension": ".py",
   "mimetype": "text/x-python",
   "name": "python",
   "nbconvert_exporter": "python",
   "pygments_lexer": "ipython3",
   "version": "3.6.8"
  }
 },
 "nbformat": 4,
 "nbformat_minor": 1
}
